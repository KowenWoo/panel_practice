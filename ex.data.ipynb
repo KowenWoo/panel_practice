{
 "cells": [
  {
   "cell_type": "code",
   "execution_count": null,
   "metadata": {},
   "outputs": [],
   "source": [
    "#obtaining dataset\n",
    "import panel as pn\n",
    "import hvplot.pandas\n",
    "import pandas as pd\n",
    "import numpy as np\n",
    "\n",
    "pn.extension(design='material')\n",
    "\n",
    "csv_file = (\"https://raw.githubusercontent.com/holoviz/panel/main/examples/assets/occupancy.csv\")\n",
    "data = pd.read_csv(csv_file, parse_dates=[\"date\"], index_col=\"date\")\n",
    "\n",
    "data.tail()\n",
    "\n",
    "#finds outliers\n",
    "def view_hvplot(avg, highlight):\n",
    "    return avg.hvplot(height=300, width=400, legend=False) * highlight.hvplot.scatter(\n",
    "        color=\"orange\", padding=0.1, legend=False\n",
    "    )\n",
    "\n",
    "def find_outliers(variable=\"Temperature\", window=30, sigma=10, view_fn=view_hvplot):\n",
    "    avg = data[variable].rolling(window=window).mean()\n",
    "    residual = data[variable] - avg\n",
    "    std = residual.rolling(window=window).std()\n",
    "    outliers = np.abs(residual) > std * sigma\n",
    "    return view_fn(avg, avg[outliers])\n",
    "\n",
    "find_outliers(variable='Temperature', window=20, sigma=10)\n",
    "\n",
    "#sliders\n",
    "variable_widget = pn.widgets.Select(name=\"variable\", value=\"Temperature\", options=list(data.columns))\n",
    "window_widget = pn.widgets.IntSlider(name=\"window\", value=30, start=1, end=60)\n",
    "sigma_widget = pn.widgets.IntSlider(name=\"sigma\", value=10, start=0, end=20)\n",
    "\n",
    "bound_plot = pn.bind(find_outliers, variable=variable_widget, window=window_widget, sigma=sigma_widget)\n",
    "\n",
    "first_app = pn.Column(variable_widget, window_widget, sigma_widget, bound_plot)\n",
    "\n",
    "first_app"
   ]
  }
 ],
 "metadata": {
  "kernelspec": {
   "display_name": "Python 3",
   "language": "python",
   "name": "python3"
  },
  "language_info": {
   "codemirror_mode": {
    "name": "ipython",
    "version": 3
   },
   "file_extension": ".py",
   "mimetype": "text/x-python",
   "name": "python",
   "nbconvert_exporter": "python",
   "pygments_lexer": "ipython3",
   "version": "3.11.3"
  },
  "orig_nbformat": 4
 },
 "nbformat": 4,
 "nbformat_minor": 2
}
